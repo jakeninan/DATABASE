{
 "cells": [
  {
   "cell_type": "code",
   "execution_count": 1,
   "metadata": {},
   "outputs": [],
   "source": [
    "from pymongo import MongoClient, DESCENDING\n",
    "import pprint\n",
    "import pymongo\n",
    "import urllib.parse\n",
    "from pymongo import MongoClient\n",
    "from IPython.display import clear_output"
   ]
  },
  {
   "cell_type": "code",
   "execution_count": 2,
   "metadata": {},
   "outputs": [
    {
     "name": "stdout",
     "output_type": "stream",
     "text": [
      "Connected\n"
     ]
    }
   ],
   "source": [
    "try:\n",
    "    username = urllib.parse.quote_plus(\"Jacobninan\")\n",
    "    password = urllib.parse.quote_plus(\"Syndicate@1234\")\n",
    "    conn = MongoClient(\"mongodb+srv://%s:%s@cluster0-tpvbw.gcp.mongodb.net/test?retryWrites=true&w=majority\" % (username,password))\n",
    "     \n",
    "    print(\"Connected\") \n",
    "    \n",
    "    \n",
    "    \n",
    "except Exception as e :\n",
    "    print(\"e\")\n",
    "db = conn['mflix']"
   ]
  },
  {
   "cell_type": "code",
   "execution_count": 3,
   "metadata": {},
   "outputs": [],
   "source": [
    "filters = {}\n",
    "page = 0\n",
    "movies_per_page = 20"
   ]
  },
  {
   "cell_type": "code",
   "execution_count": 4,
   "metadata": {},
   "outputs": [],
   "source": [
    "sort_key = \"imdb.rating\"\n",
    "\n",
    "movies = db.movies2.find(filters) \\\n",
    "                  .sort(sort_key)"
   ]
  },
  {
   "cell_type": "code",
   "execution_count": 5,
   "metadata": {},
   "outputs": [
    {
     "name": "stderr",
     "output_type": "stream",
     "text": [
      "C:\\Users\\Jacob\\Anaconda3\\lib\\site-packages\\ipykernel_launcher.py:2: DeprecationWarning: count is deprecated. Use Collection.count_documents instead.\n",
      "  \n"
     ]
    },
    {
     "name": "stdout",
     "output_type": "stream",
     "text": [
      "20\n"
     ]
    }
   ],
   "source": [
    "# count number of total movie documents\n",
    "total_num_movies = movies.count()\n",
    "pprint.pprint(total_num_movies)\n"
   ]
  },
  {
   "cell_type": "code",
   "execution_count": 6,
   "metadata": {},
   "outputs": [
    {
     "data": {
      "text/plain": [
       "<pymongo.cursor.Cursor at 0xaec1f411c8>"
      ]
     },
     "execution_count": 6,
     "metadata": {},
     "output_type": "execute_result"
    }
   ],
   "source": [
    "# limit records based on page number\n",
    "movies.skip(movies_per_page * page) \\\n",
    "               .limit(movies_per_page)"
   ]
  },
  {
   "cell_type": "code",
   "execution_count": 7,
   "metadata": {},
   "outputs": [],
   "source": [
    "movie_list = list(movies)"
   ]
  },
  {
   "cell_type": "code",
   "execution_count": 8,
   "metadata": {},
   "outputs": [
    {
     "data": {
      "text/plain": [
       "20"
      ]
     },
     "execution_count": 8,
     "metadata": {},
     "output_type": "execute_result"
    }
   ],
   "source": [
    "len(movie_list)"
   ]
  },
  {
   "cell_type": "code",
   "execution_count": 9,
   "metadata": {},
   "outputs": [
    {
     "data": {
      "text/plain": [
       "{'_id': ObjectId('5dba6870ab0ff30ddd72342a'),\n",
       " 'title': 'Cleopatra',\n",
       " 'year': 1912,\n",
       " 'runtime': '88 min',\n",
       " 'metacritic': '',\n",
       " 'poster': '',\n",
       " 'plot': \"The fabled queen of Egypt's affair with Roman general Marc Antony is ulimately disastrous for both of them.\",\n",
       " 'awards': '',\n",
       " 'type': 'movie',\n",
       " 'directors': ['Charles L. Gaskill'],\n",
       " 'actors': ['Helen Gardner', 'Pearl Sindelar', 'Miss Fielding', 'Miss Robson'],\n",
       " 'writers': ['Victorien Sardou (adapted from the play by)'],\n",
       " 'genres': ['Drama', 'History'],\n",
       " 'languages': ['English'],\n",
       " 'countries': ['USA'],\n",
       " 'fullPlot': 'When she discovers that a slave named Pharon professes his love for her, Cleopatra makes a bargain with him: she will give him ten days of \"love,\" at the end of which he is to commit suicide. He agrees, although the queen\\'s handmaiden Iras, in love with the slave, isn\\'t happy with the arrangement. Later when Cleopatra is seducing Marc Antony, her relationship with Pharon is used against her, but with little effect. She allies herself with Antony against Octavius, participates in a brief war, then meets her end rather than be subjected to Roman rule.',\n",
       " 'rated': 'UNRATED',\n",
       " 'released': datetime.datetime(1912, 11, 13, 0, 0),\n",
       " 'imdb': {'id': 2101, 'rating': 5.1, 'votes': 291},\n",
       " 'lastUpdated': datetime.datetime(2015, 8, 26, 4, 15, 57)}"
      ]
     },
     "execution_count": 9,
     "metadata": {},
     "output_type": "execute_result"
    }
   ],
   "source": [
    "movie_list[0]"
   ]
  },
  {
   "cell_type": "code",
   "execution_count": 10,
   "metadata": {},
   "outputs": [],
   "source": [
    "page = 1"
   ]
  },
  {
   "cell_type": "code",
   "execution_count": 11,
   "metadata": {},
   "outputs": [],
   "source": [
    "movies = db.movies.find(filters) \\\n",
    "                  .sort(sort_key, DESCENDING) \\\n",
    "                  .skip(movies_per_page * page)"
   ]
  },
  {
   "cell_type": "code",
   "execution_count": 12,
   "metadata": {},
   "outputs": [
    {
     "data": {
      "text/plain": [
       "0"
      ]
     },
     "execution_count": 12,
     "metadata": {},
     "output_type": "execute_result"
    }
   ],
   "source": [
    "len(list(movies))"
   ]
  },
  {
   "cell_type": "code",
   "execution_count": null,
   "metadata": {},
   "outputs": [],
   "source": []
  },
  {
   "cell_type": "code",
   "execution_count": null,
   "metadata": {},
   "outputs": [],
   "source": []
  },
  {
   "cell_type": "code",
   "execution_count": null,
   "metadata": {},
   "outputs": [],
   "source": []
  }
 ],
 "metadata": {
  "kernelspec": {
   "display_name": "Python 3",
   "language": "python",
   "name": "python3"
  },
  "language_info": {
   "codemirror_mode": {
    "name": "ipython",
    "version": 3
   },
   "file_extension": ".py",
   "mimetype": "text/x-python",
   "name": "python",
   "nbconvert_exporter": "python",
   "pygments_lexer": "ipython3",
   "version": "3.7.4"
  }
 },
 "nbformat": 4,
 "nbformat_minor": 2
}
