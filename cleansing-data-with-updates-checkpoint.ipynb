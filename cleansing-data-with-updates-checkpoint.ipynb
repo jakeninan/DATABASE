{
 "cells": [
  {
   "cell_type": "code",
   "execution_count": 1,
   "metadata": {},
   "outputs": [
    {
     "name": "stdout",
     "output_type": "stream",
     "text": [
      "Collecting dateparser\n",
      "  Downloading https://files.pythonhosted.org/packages/82/9d/51126ac615bbc4418478d725a5fa1a0f112059f6f111e4b48cfbe17ef9d0/dateparser-0.7.2-py2.py3-none-any.whl (352kB)\n",
      "Collecting regex (from dateparser)\n",
      "  Downloading https://files.pythonhosted.org/packages/7a/89/8015c762915e5f88a2415209c2130cfca99beb100e29bb5594d9e6b257c5/regex-2019.12.20-cp37-cp37m-win_amd64.whl (271kB)\n",
      "Collecting tzlocal (from dateparser)\n",
      "  Downloading https://files.pythonhosted.org/packages/ef/99/53bd1ac9349262f59c1c421d8fcc2559ae8a5eeffed9202684756b648d33/tzlocal-2.0.0-py2.py3-none-any.whl\n",
      "Requirement already satisfied: python-dateutil in c:\\users\\jacob\\anaconda3\\lib\\site-packages (from dateparser) (2.8.0)\n",
      "Requirement already satisfied: pytz in c:\\users\\jacob\\anaconda3\\lib\\site-packages (from dateparser) (2019.3)\n",
      "Requirement already satisfied: six>=1.5 in c:\\users\\jacob\\anaconda3\\lib\\site-packages (from python-dateutil->dateparser) (1.12.0)\n",
      "Installing collected packages: regex, tzlocal, dateparser\n",
      "Successfully installed dateparser-0.7.2 regex-2019.12.20 tzlocal-2.0.0\n"
     ]
    }
   ],
   "source": [
    "# We're going to install this module to help us parse datetimes from the raw dataset\n",
    "!pip install dateparser"
   ]
  },
  {
   "cell_type": "code",
   "execution_count": 2,
   "metadata": {},
   "outputs": [],
   "source": [
    "from pymongo import MongoClient, InsertOne, UpdateOne\n",
    "import pprint\n",
    "import urllib.parse\n",
    "\n",
    "import dateparser\n",
    "from bson.json_util import loads"
   ]
  },
  {
   "cell_type": "code",
   "execution_count": null,
   "metadata": {
    "collapsed": true
   },
   "outputs": [],
   "source": [
    "# Replace XXXX with your connection URI from the Atlas UI\n",
    "sername = urllib.parse.quote_plus(\"Jacobninan\")\n",
    "password = urllib.parse.quote_plus(\"Syndicate@1234\")\n",
    "client = MongoClient(\"mongodb+srv://%s:%s@cluster0-tpvbw.gcp.mongodb.net/test?retryWrites=true&w=majority\" % (username,password))\n",
    "people_raw = client.cleansing['people-raw']"
   ]
  },
  {
   "cell_type": "code",
   "execution_count": null,
   "metadata": {
    "collapsed": true
   },
   "outputs": [],
   "source": [
    "batch_size = 1000\n",
    "inserts = []\n",
    "count = 0"
   ]
  },
  {
   "cell_type": "code",
   "execution_count": null,
   "metadata": {
    "collapsed": true
   },
   "outputs": [],
   "source": [
    "# There are over 50,000 lines, so this might take a while...\n",
    "# Make sure to wait until the cell finishes executing before moving on (the * will turn into a number)\n",
    "with open(\"./people-raw.json\") as dataset: \n",
    "    for line in dataset: \n",
    "        inserts.append(InsertOne(loads(line)))\n",
    "        \n",
    "        count += 1\n",
    "                       \n",
    "        if count == batch_size:\n",
    "            people_raw.bulk_write(inserts)\n",
    "            inserts = []\n",
    "            count = 0\n",
    "if inserts:         \n",
    "    people_raw.bulk_write(inserts)\n",
    "    count = 0"
   ]
  },
  {
   "cell_type": "code",
   "execution_count": null,
   "metadata": {
    "collapsed": true
   },
   "outputs": [],
   "source": [
    "# Confirm that 50,474 documents are in your collection before moving on\n",
    "people_raw.count()"
   ]
  },
  {
   "cell_type": "code",
   "execution_count": null,
   "metadata": {
    "collapsed": true
   },
   "outputs": [],
   "source": [
    "# Replace YYYY with a query on the people-raw collection that will return a cursor with only\n",
    "# documents where the birthday field is a string\n",
    "people_with_string_birthdays = YYYY"
   ]
  },
  {
   "cell_type": "code",
   "execution_count": null,
   "metadata": {
    "collapsed": true
   },
   "outputs": [],
   "source": [
    "# This is the answer to verify you completed the lab\n",
    "people_with_string_birthdays.count()"
   ]
  },
  {
   "cell_type": "code",
   "execution_count": null,
   "metadata": {
    "collapsed": true
   },
   "outputs": [],
   "source": [
    "updates = []\n",
    "# Again, we're updating several thousand documents, so this will take a little while\n",
    "for person in people_with_string_birthdays:\n",
    "    # Pymongo converts datetime objects into BSON Dates. The dateparser.parse function returns a\n",
    "    # datetime object, so we can simply do the following to update the field properly.\n",
    "    # Replace ZZZZ with the correct update operator\n",
    "    updates.append(UpdateOne({ \"_id\": person[\"_id\"] }, { ZZZZ: { \"birthday\": dateparser.parse(person[\"birthday\"]) } }))\n",
    "    \n",
    "    count += 1\n",
    "                       \n",
    "    if count == batch_size:\n",
    "        people_raw.bulk_write(updates)\n",
    "        updates = []\n",
    "        count = 0\n",
    "        \n",
    "if updates:         \n",
    "    people_raw.bulk_write(updates)\n",
    "    count = 0"
   ]
  },
  {
   "cell_type": "code",
   "execution_count": null,
   "metadata": {
    "collapsed": true
   },
   "outputs": [],
   "source": [
    "# If everything went well this should be zero\n",
    "people_with_string_birthdays.count()"
   ]
  }
 ],
 "metadata": {
  "kernelspec": {
   "display_name": "Python 3",
   "language": "python",
   "name": "python3"
  },
  "language_info": {
   "codemirror_mode": {
    "name": "ipython",
    "version": 3
   },
   "file_extension": ".py",
   "mimetype": "text/x-python",
   "name": "python",
   "nbconvert_exporter": "python",
   "pygments_lexer": "ipython3",
   "version": "3.7.4"
  }
 },
 "nbformat": 4,
 "nbformat_minor": 2
}
