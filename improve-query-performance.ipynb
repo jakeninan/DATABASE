{
 "cells": [
  {
   "cell_type": "code",
   "execution_count": 4,
   "metadata": {},
   "outputs": [],
   "source": [
    "import pymongo\n",
    "import pprint\n",
    "import urllib.parse\n"
   ]
  },
  {
   "cell_type": "code",
   "execution_count": 17,
   "metadata": {},
   "outputs": [],
   "source": [
    "# Replace XXXX with your connection URI from the Atlas UI\n",
    "username = urllib.parse.quote_plus(\"Jacobninan\")\n",
    "password = urllib.parse.quote_plus(\"Syndicate@1234\")\n",
    "\n",
    "free_tier_client = pymongo.MongoClient(\"mongodb+srv://%s:%s@cluster0-tpvbw.gcp.mongodb.net/test?retryWrites=true&w=majority\" % (username,password))\n"
   ]
  },
  {
   "cell_type": "code",
   "execution_count": 18,
   "metadata": {},
   "outputs": [
    {
     "name": "stdout",
     "output_type": "stream",
     "text": [
      "{'_id_': {'key': [('_id', 1)], 'ns': 'cleansing.people-raw', 'v': 2}}\n"
     ]
    }
   ],
   "source": [
    "pprint.pprint(people.index_information())"
   ]
  },
  {
   "cell_type": "code",
   "execution_count": 7,
   "metadata": {},
   "outputs": [],
   "source": [
    "# We're using the people-raw dataset from the Cleansing Data with Updates assessment\n",
    "people = free_tier_client.cleansing[\"people-raw\"]"
   ]
  },
  {
   "cell_type": "code",
   "execution_count": 8,
   "metadata": {},
   "outputs": [],
   "source": [
    "# This is a helper function to reduce the output of explain to a few key metrics\n",
    "def distilled_explain(explain_output):\n",
    "    return {\n",
    "        'executionTimeMillis': explain_output['executionStats']['executionTimeMillis'],\n",
    "        'totalDocsExamined'  : explain_output['executionStats']['totalDocsExamined'],\n",
    "        'nReturned'          : explain_output['executionStats']['nReturned']\n",
    "    }"
   ]
  },
  {
   "cell_type": "code",
   "execution_count": 9,
   "metadata": {},
   "outputs": [],
   "source": [
    "query_1_stats = people.find({\n",
    "  \"address.state\": \"Nebraska\",\n",
    "  \"last_name\": \"Miller\",\n",
    "}).explain()\n",
    "\n",
    "query_2_stats = people.find({\n",
    "  \"first_name\": \"Harry\",\n",
    "  \"last_name\": \"Reed\"\n",
    "}).explain()"
   ]
  },
  {
   "cell_type": "code",
   "execution_count": 10,
   "metadata": {},
   "outputs": [
    {
     "name": "stdout",
     "output_type": "stream",
     "text": [
      "{'executionTimeMillis': 38, 'totalDocsExamined': 50474, 'nReturned': 6}\n",
      "{'executionTimeMillis': 27, 'totalDocsExamined': 50474, 'nReturned': 1}\n"
     ]
    }
   ],
   "source": [
    "# This is to provide a baseline for how long it takes to execute these queries\n",
    "print(distilled_explain(query_1_stats))\n",
    "print(distilled_explain(query_2_stats))"
   ]
  },
  {
   "cell_type": "code",
   "execution_count": 32,
   "metadata": {},
   "outputs": [
    {
     "data": {
      "text/plain": [
       "'last_name_1'"
      ]
     },
     "execution_count": 32,
     "metadata": {},
     "output_type": "execute_result"
    }
   ],
   "source": [
    "# Replace \"YYYY\" with the best index to increase the performance of the two queries above\n",
    "#people.create_index([(\"address\",pymongo.ASCENDING)])\n",
    "people.create_index([(\"last_name\",pymongo.ASCENDING)])\n"
   ]
  },
  {
   "cell_type": "code",
   "execution_count": 33,
   "metadata": {},
   "outputs": [],
   "source": [
    "query_1_stats = people.find({\n",
    "  \"address.state\": \"Nebraska\",\n",
    "  \"last_name\": \"Miller\",\n",
    "}).explain()\n",
    "\n",
    "query_2_stats = people.find({\n",
    "  \"first_name\": \"Harry\",\n",
    "  \"last_name\": \"Reed\"\n",
    "}).explain()"
   ]
  },
  {
   "cell_type": "code",
   "execution_count": 34,
   "metadata": {},
   "outputs": [
    {
     "name": "stdout",
     "output_type": "stream",
     "text": [
      "{'executionTimeMillis': 4, 'totalDocsExamined': 533, 'nReturned': 6}\n",
      "{'executionTimeMillis': 0, 'totalDocsExamined': 17, 'nReturned': 1}\n"
     ]
    }
   ],
   "source": [
    "# If everything went well, both queries should now have *much* lower execution times and documents examined\n",
    "print(distilled_explain(query_1_stats))\n",
    "print(distilled_explain(query_2_stats))"
   ]
  },
  {
   "cell_type": "code",
   "execution_count": null,
   "metadata": {},
   "outputs": [],
   "source": []
  }
 ],
 "metadata": {
  "kernelspec": {
   "display_name": "Python 3",
   "language": "python",
   "name": "python3"
  },
  "language_info": {
   "codemirror_mode": {
    "name": "ipython",
    "version": 3
   },
   "file_extension": ".py",
   "mimetype": "text/x-python",
   "name": "python",
   "nbconvert_exporter": "python",
   "pygments_lexer": "ipython3",
   "version": "3.7.4"
  }
 },
 "nbformat": 4,
 "nbformat_minor": 2
}
