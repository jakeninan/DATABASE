{
 "cells": [
  {
   "cell_type": "code",
   "execution_count": 1,
   "metadata": {},
   "outputs": [
    {
     "name": "stdout",
     "output_type": "stream",
     "text": [
      "Connected successfully!!!\n"
     ]
    }
   ],
   "source": [
    "import pymongo\n",
    "import urllib.parse\n",
    "from pprint import pprint\n",
    "from pymongo import MongoClient\n",
    "from IPython.display import clear_output\n",
    "\n",
    "try: \n",
    "    username = urllib.parse.quote_plus(\"Jacobninan\")\n",
    "    password = urllib.parse.quote_plus(\"Syndicate@1234\")\n",
    "    conn = MongoClient(\"mongodb+srv://%s:%s@cluster0-tpvbw.gcp.mongodb.net/test?retryWrites=true&w=majority\" % (username,password))\n",
    "     \n",
    "    print(\"Connected successfully!!!\") \n",
    "except Exception as e :   \n",
    "    print(e) \n",
    "  # database name: mydatabase \n",
    "\n",
    "\n",
    "\n",
    "\n",
    "\n"
   ]
  },
  {
   "cell_type": "code",
   "execution_count": null,
   "metadata": {},
   "outputs": [],
   "source": []
  },
  {
   "cell_type": "code",
   "execution_count": null,
   "metadata": {},
   "outputs": [],
   "source": []
  },
  {
   "cell_type": "code",
   "execution_count": null,
   "metadata": {},
   "outputs": [],
   "source": []
  },
  {
   "cell_type": "code",
   "execution_count": null,
   "metadata": {},
   "outputs": [],
   "source": []
  }
 ],
 "metadata": {
  "kernelspec": {
   "display_name": "Python 3",
   "language": "python",
   "name": "python3"
  },
  "language_info": {
   "codemirror_mode": {
    "name": "ipython",
    "version": 3
   },
   "file_extension": ".py",
   "mimetype": "text/x-python",
   "name": "python",
   "nbconvert_exporter": "python",
   "pygments_lexer": "ipython3",
   "version": "3.7.4"
  }
 },
 "nbformat": 4,
 "nbformat_minor": 2
}
