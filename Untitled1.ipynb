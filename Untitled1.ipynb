{
 "cells": [
  {
   "cell_type": "code",
   "execution_count": 13,
   "metadata": {},
   "outputs": [
    {
     "name": "stdout",
     "output_type": "stream",
     "text": [
      "connected \n",
      "[]\n"
     ]
    }
   ],
   "source": [
    "import pymongo\n",
    "from pymongo import MongoClient\n",
    "import pprint\n",
    "from IPython.display import clear_output\n",
    "import urllib.parse\n",
    "try:\n",
    "    username = urllib.parse.quote_plus(\"Jacobninan\")\n",
    "    password = urllib.parse.quote_plus(\"Syndicate@1234\")\n",
    "    client = MongoClient(\"mongodb+srv://%s:%s@cluster0-tpvbw.gcp.mongodb.net/test?retryWrites=true&w=majority\" % (username,password))\n",
    "    print(\"connected \")\n",
    "except:\n",
    "    print (\"Not connected\")\n",
    "     \n",
    "filter = {\"languages\":{\"$all\":[\"korean\",\"English\"]}}\n",
    "pprint.pprint(list(client.mflix.movies_scratch.find(filter)))\n"
   ]
  },
  {
   "cell_type": "code",
   "execution_count": null,
   "metadata": {},
   "outputs": [],
   "source": []
  },
  {
   "cell_type": "code",
   "execution_count": null,
   "metadata": {},
   "outputs": [],
   "source": []
  }
 ],
 "metadata": {
  "kernelspec": {
   "display_name": "Python 3",
   "language": "python",
   "name": "python3"
  },
  "language_info": {
   "codemirror_mode": {
    "name": "ipython",
    "version": 3
   },
   "file_extension": ".py",
   "mimetype": "text/x-python",
   "name": "python",
   "nbconvert_exporter": "python",
   "pygments_lexer": "ipython3",
   "version": "3.7.4"
  }
 },
 "nbformat": 4,
 "nbformat_minor": 2
}
